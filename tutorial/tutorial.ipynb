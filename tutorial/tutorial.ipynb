{
 "cells": [
  {
   "cell_type": "markdown",
   "metadata": {},
   "source": [
    "# beeHealth Tutorial\n",
    "### An introduction to Digital Health's library for localisation and activity metrics.\n",
    "##### Michał Kozłowski, Miquel Perelló Nieto, Ryan McConville"
   ]
  },
  {
   "cell_type": "markdown",
   "metadata": {},
   "source": [
    "\n",
    "\n",
    "\n",
    "\n",
    "\n",
    "The purpose of this tutorial is to introduce the functionality of this library and to provide a 'kick-start' for anyone aiming to use it, with the help of a few example scripts. We will initially concentrate on the two available examples, before moving onto ways in which this library can be expanded."
   ]
  },
  {
   "cell_type": "markdown",
   "metadata": {},
   "source": [
    "## Metrics for activity recognition\n",
    "\n",
    "In this section we will cover the use of 3-dimensional accelerometer signal as a basis for preprocessing, stratification, validation, classification and subsequent activity recognition metrics extraction. \n",
    "\n",
    "### Firstly, let's take care of the dependencies:"
   ]
  },
  {
   "cell_type": "code",
   "execution_count": 1,
   "metadata": {},
   "outputs": [],
   "source": [
    "import sys\n",
    "sys.path.append('../')\n",
    "\n",
    "import numpy as np\n",
    "import pandas as pd\n",
    "import matplotlib.pyplot as plt\n",
    "from bhealth.visualisations import plot_metrics\n",
    "from bhealth.visualisations import features_figure\n",
    "from bhealth.visualisations import plot_features\n",
    "from bhealth.visualisations import plot_test_train_splits\n",
    "from bhealth import data_loading\n",
    "\n",
    "from sklearn.ensemble import RandomForestClassifier\n",
    "from sklearn.model_selection import GridSearchCV\n",
    "from sklearn.model_selection import StratifiedKFold\n",
    "\n",
    "from bhealth.transforms import Transforms\n",
    "from bhealth.metrics import Metrics\n",
    "from bhealth.metric_wrappers import Wrapper\n",
    "\n",
    "import warnings\n",
    "warnings.filterwarnings('ignore')"
   ]
  },
  {
   "cell_type": "markdown",
   "metadata": {},
   "source": [
    "### The function below calls the data loading script in the library. The data can be downloaded by following the instructions in the 'script' folder. The function outputs the raw data in the form of:\n",
    "\n",
    "- 'ts' - timestamp\n",
    "- 'xyz' - accelerometer data in 3-dimensions\n",
    "- 'labels' - corresponding labels"
   ]
  },
  {
   "cell_type": "code",
   "execution_count": 2,
   "metadata": {},
   "outputs": [],
   "source": [
    "def get_raw_ts_X_y():\n",
    "\n",
    "    labels, ts, xyz = data_loading.data_loader_accelerometer(house_id='A')\n",
    "    return ts, xyz, labels"
   ]
  },
  {
   "cell_type": "markdown",
   "metadata": {},
   "source": [
    "### Preprocessing performs various transformations on the actual dataset, so called 'feature extraction'. Here, the data undergoes the extraction of selected features. The full list of feature transforms can be found in the file 'transforms.py' and their tests under 'tests/test_transforms.py'.\n",
    "\n",
    "- The data is first windowed, and its overlap calculated (lines 5-11).\n",
    "- Instantiation of the Transforms object (line 13).\n",
    "- The appropriate feature transforms are selected and passed into the library as an array (lines 14-23).\n",
    "- The window is then iterated across the entirety of the data, and each of the transforms is calculated (lines 25-39).\n",
    "- Clean up operations follow (lines 41-49)."
   ]
  },
  {
   "cell_type": "code",
   "execution_count": 3,
   "metadata": {},
   "outputs": [],
   "source": [
    "def preprocess_X_y(ts, X, y):\n",
    "    new_X = []\n",
    "    new_y = []\n",
    "\n",
    "    winlength_seconds = 5\n",
    "    overlap_seconds = 1\n",
    "    print(\"Window size of \"+str(winlength_seconds)+\" seconds and overlap of \"+str(float(overlap_seconds) / winlength_seconds)+\"%\")\n",
    "    samples_per_sec = 50\n",
    "    winlength = samples_per_sec * winlength_seconds\n",
    "    current = winlength\n",
    "    overlap = samples_per_sec * overlap_seconds\n",
    "\n",
    "    transform = Transforms(window_length=winlength, window_overlap=overlap)\n",
    "    print(\"Use number of mean crossings, spectral entropy as features...\")\n",
    "    feature_transforms = [transform.mean_crossings,\n",
    "                          transform.spec_entropy,\n",
    "                          transform.zero_crossings,\n",
    "                          transform.interq,\n",
    "                          transform.skewn,\n",
    "                          transform.spec_energy,\n",
    "                          transform.p25,\n",
    "                          transform.p75,\n",
    "                          transform.kurtosis]\n",
    "\n",
    "    while True:\n",
    "        windowed_raw = transform.slide(X)\n",
    "        if len(windowed_raw) > 0:\n",
    "            try:\n",
    "                windowed_features = [ts[transform.current_position][0]]\n",
    "            except Exception as e:\n",
    "                print(e)\n",
    "                break\n",
    "            for function in feature_transforms:\n",
    "                windowed_features.extend((np.apply_along_axis(function, 0, windowed_raw).tolist()))\n",
    "            new_X.append(windowed_features)\n",
    "\n",
    "            windowed_raw_labels = transform.slide(y, update=False)\n",
    "            most_freq_label = np.bincount(windowed_raw_labels).argmax()\n",
    "            new_y.append(most_freq_label)\n",
    "\n",
    "    # Convert lists to Numpy arrays\n",
    "    new_X = np.array(new_X)\n",
    "    # Remove datetime from features\n",
    "    new_X = new_X[:, 1:]\n",
    "    new_y = np.array(new_y)\n",
    "\n",
    "    new_X = transform.feature_selection(new_X, new_y, 'tree')\n",
    "\n",
    "    return new_X, new_y"
   ]
  },
  {
   "cell_type": "markdown",
   "metadata": {},
   "source": [
    "### The split is the performed for fair cross validation of the algorithms. In this example, the data is split into two partitions for training and testing data."
   ]
  },
  {
   "cell_type": "code",
   "execution_count": 4,
   "metadata": {},
   "outputs": [],
   "source": [
    "def split_train_test(X, y):\n",
    "    # Create train and test partitions\n",
    "    skf = StratifiedKFold(n_splits=2, shuffle=False)\n",
    "    train_index, test_index = skf.split(X, y).__next__()\n",
    "    X_train, X_test = X[train_index], X[test_index]\n",
    "    y_train, y_test = y[train_index], y[test_index]\n",
    "        \n",
    "    plot_test_train_splits(y_train, y_test)\n",
    "    return (X_train, y_train), (X_test, y_test)"
   ]
  },
  {
   "cell_type": "markdown",
   "metadata": {},
   "source": [
    "### Classifier grid function selects the best set of parameters for a given classifier - in this case the classifier is a Random Forest. It will iteratively search through the provided parameters and output the set which gives best performance."
   ]
  },
  {
   "cell_type": "code",
   "execution_count": 5,
   "metadata": {},
   "outputs": [],
   "source": [
    "def get_classifier_grid():\n",
    "    # Create cross-validation partitions from training\n",
    "    # This should select the best set of parameters\n",
    "    cv = StratifiedKFold(n_splits=5, shuffle=False)\n",
    "    clf = RandomForestClassifier()\n",
    "    param_grid = {'n_estimators' : [200, 250],\n",
    "                  'min_samples_leaf': [5, 10]}\n",
    "    clf_grid = GridSearchCV(clf, param_grid=param_grid, cv=cv, refit=True)\n",
    "    return clf_grid"
   ]
  },
  {
   "cell_type": "markdown",
   "metadata": {},
   "source": [
    "### The following function simply prints out the summary of the parameters and the cross validation accuracy. "
   ]
  },
  {
   "cell_type": "code",
   "execution_count": 6,
   "metadata": {},
   "outputs": [],
   "source": [
    "def print_summary(clf_grid, X_test, y_test):\n",
    "    import numpy as np\n",
    "    print('Best parameters are: {}'.format(clf_grid.best_params_))\n",
    "    print(\"CV accuracy \"+str(np.mean(clf_grid.cv_results_['mean_test_score'])))\n",
    "\n",
    "    # The best model was fitted on the full training data, here it is tested only\n",
    "    tt_score = clf_grid.score(X_test, y_test)\n",
    "    print(\"Train / test split accuracy \"+str(tt_score))"
   ]
  },
  {
   "cell_type": "markdown",
   "metadata": {},
   "source": [
    "### Metrics are calculated in the following function. Its usage underpins the entire library. The metrics can be chosen, according to the needs of the user much like the feature transform functions.\n",
    "\n",
    "- The current implementation can consider metrics across a variety of time spans - in this example we use daily and hourly metric calculation. This calls for the instantiation of the Wrapper class, where the user can specify what time spans should be used (lines 4-5).\n",
    "- Then, the labes and timestamps are cast into Pandas DataFrame object. This is for the internal use of the metric calculation (lines 7-9).\n",
    "- The metrics are then selected. This is done in a similar manner to the feature transforms above - through the use of array. The full list of implemented metrics can be found within the Wrapper class file 'metric_wrappers.py'. Note, that separate metrics for each of the time span duration can be chosen. \n",
    "- By running 'run_metric_array', the metrics are calculated and output in an array. This array outputs the metrics in the order in which they are provided by the user, i.e. in the example it would be 'duration_sitting', then 'number_of_unique_activities' and so  on."
   ]
  },
  {
   "cell_type": "code",
   "execution_count": 7,
   "metadata": {},
   "outputs": [],
   "source": [
    "def activity_metrics(labels, timestamps, span):\n",
    "    \"\"\"Outputs typical activity metrics.\"\"\"\n",
    "\n",
    "    descriptor_map = {\n",
    "                'sitting' : [77],\n",
    "                'walking' : [78],\n",
    "                'washing' : [79],\n",
    "                'eating'  : [80],\n",
    "                'sleeping': [81],\n",
    "                'studying': [82]\n",
    "            }\n",
    "\n",
    "    metrics = Wrapper(labels, timestamps, span, 1, 25, descriptor_map, adjecency=None)\n",
    "\n",
    "    df_time = timestamps.astype('datetime64')\n",
    "    df_time = pd.DataFrame(df_time, columns=['Time'])\n",
    "    df_label = pd.DataFrame(labels, columns=['Label'])\n",
    "\n",
    "    metric_array= [metrics.duration_sitting,\n",
    "                   metrics.duration_walking,\n",
    "                   metrics.duration_washing,\n",
    "                   metrics.duration_eating,\n",
    "                   metrics.duration_sleeping,\n",
    "                   metrics.duration_studying,\n",
    "                   metrics.number_of_unique_activities]\n",
    "\n",
    "    metric_container, date_container = metrics.run_metric_array(metric_array)\n",
    "\n",
    "    return metric_container, date_container"
   ]
  },
  {
   "cell_type": "markdown",
   "metadata": {},
   "source": [
    "### The following structure in the 'main' function follows for all examples. The aim is to keep the entire pipeline the same:\n",
    "\n",
    "1. get_raw_ts_X_y loads the data.\n",
    "2. preprocess_X_y(ts, X, y) performs the preprocessing and feature extraction.\n",
    "3. split_train_test(X, y) splits the data into test and training.\n",
    "4. get_classifier_grid() performs the optimisation of the parameters.\n",
    "5. clf_grid.fit(X_train, y_train) fits the model to data.\n",
    "6. print_summary(clf_grid, X_test, y_test) validates the data and calculates the error.\n",
    "7. activity_metrics(y_test, ts) uses the evaluated labels to provide metrics of activity relating to health."
   ]
  },
  {
   "cell_type": "code",
   "execution_count": 8,
   "metadata": {},
   "outputs": [
    {
     "name": "stdout",
     "output_type": "stream",
     "text": [
      "Found 4 house folders.\n",
      "Found 4 experiment folders.\n",
      "Running folder:  1\n",
      "Running folder:  2\n",
      "Running folder:  3\n",
      "Running folder:  4\n",
      "(72766, 1)\n",
      "(72766, 3)\n",
      "(72766,)\n",
      "Window size of 5 seconds and overlap of 0.2%\n",
      "Use number of mean crossings, spectral entropy as features...\n",
      "index 72800 is out of bounds for axis 0 with size 72766\n",
      "[99 40 34  4  1  3  2]\n",
      "[98 39 33  4  1  2  1]\n",
      "Best parameters are: {'min_samples_leaf': 5, 'n_estimators': 200}\n",
      "CV accuracy 0.7134831460674157\n",
      "Train / test split accuracy 0.6284153005464481\n"
     ]
    },
    {
     "data": {
      "image/png": "[encoded data removed]",
      "text/plain": [
       "<Figure size 432x288 with 1 Axes>"
      ]
     },
     "metadata": {
      "needs_background": "light"
     },
     "output_type": "display_data"
    },
    {
     "data": {
      "image/png": "[encoded data removed]",
      "text/plain": [
       "<Figure size 432x288 with 1 Axes>"
      ]
     },
     "metadata": {
      "needs_background": "light"
     },
     "output_type": "display_data"
    },
    {
     "data": {
      "image/png": "[encoded data removed]",
      "text/plain": [
       "<Figure size 432x288 with 1 Axes>"
      ]
     },
     "metadata": {
      "needs_background": "light"
     },
     "output_type": "display_data"
    },
    {
     "data": {
      "image/png": "[encoded data removed]",
      "text/plain": [
       "<Figure size 432x288 with 1 Axes>"
      ]
     },
     "metadata": {},
     "output_type": "display_data"
    }
   ],
   "source": [
    "if __name__ == '__main__':\n",
    "    ts, X, y = get_raw_ts_X_y()\n",
    "    print(ts.shape)\n",
    "    print(X.shape)\n",
    "    print(y.shape)\n",
    "    features_figure(X[0:X.size:50], feature_names=['X', 'Y', 'Z'])\n",
    "\n",
    "    X, y = preprocess_X_y(ts, X, y)\n",
    "    \n",
    "    \n",
    "    \n",
    "    (X_train, y_train), (X_test, y_test) = split_train_test(X, y)\n",
    "    clf_grid = get_classifier_grid()\n",
    "    clf_grid.fit(X_train, y_train)\n",
    "    print_summary(clf_grid, X_test, y_test)\n",
    "\n",
    "    metric_container_daily, date_container_daily = activity_metrics(y, ts, 'daily')\n",
    "    plot_metrics(metric_container_daily, date_container_daily)\n",
    "\n",
    "    plt.show()"
   ]
  },
  {
   "cell_type": "markdown",
   "metadata": {},
   "source": [
    "# Metrics for indoor localisation"
   ]
  },
  {
   "cell_type": "markdown",
   "metadata": {},
   "source": [
    "Localisation works very similarly to activity recognition, in that the entire structure is maintained. The only differences are the preprocessing steps, as well as the choice of classifiers and parameters. Once again, we load by get_raw_ts_X_y. This time however, since the indoor localisation performance is highly dependent upon the environment it is in (as opposed to activity, which it invariant to environment), we have a choice of 4 different houses.\n",
    "\n",
    "### Again, let's begin with dependencies:"
   ]
  },
  {
   "cell_type": "code",
   "execution_count": 9,
   "metadata": {},
   "outputs": [],
   "source": [
    "import sys\n",
    "sys.path.append('../')\n",
    "\n",
    "import pandas as pd\n",
    "import numpy as np\n",
    "from bhealth import data_loading\n",
    "\n",
    "from bhealth.visualisations import plot_metrics\n",
    "from bhealth.visualisations import features_figure\n",
    "from bhealth.visualisations import features_figure_scatter\n",
    "from bhealth.visualisations import plot_test_train_splits\n",
    "\n",
    "from sklearn.ensemble import RandomForestClassifier\n",
    "from sklearn.linear_model import LogisticRegression\n",
    "from sklearn.svm import SVC\n",
    "from sklearn.model_selection import StratifiedKFold, GridSearchCV\n",
    "from sklearn.preprocessing import StandardScaler\n",
    "from sklearn.impute import SimpleImputer\n",
    "from sklearn.pipeline import Pipeline\n",
    "from sklearn.model_selection import StratifiedKFold\n",
    "\n",
    "import matplotlib.pyplot as plt\n",
    "\n",
    "from bhealth.metrics import Metrics\n",
    "from bhealth.transforms import Transforms\n",
    "from bhealth.metric_wrappers import Wrapper\n",
    "\n",
    "import warnings\n",
    "warnings.filterwarnings('ignore')"
   ]
  },
  {
   "cell_type": "markdown",
   "metadata": {},
   "source": [
    "### The below function, get_raw_ts_X_y, works in the same way as the function above. It again loads the appropriate data. Note however, that the actual dimensionality of this data changes with each house (i.e. how many unique features there are in the dataset. This corresponds to the number of Access Points (APs) used in the indoor localisation experiments."
   ]
  },
  {
   "cell_type": "code",
   "execution_count": 10,
   "metadata": {},
   "outputs": [],
   "source": [
    "def get_raw_ts_X_y(house_):\n",
    "\n",
    "    ts, X, y = data_loading_debug.data_loader_rssi_debug(house_)\n",
    "    return ts, X, y"
   ]
  },
  {
   "cell_type": "markdown",
   "metadata": {},
   "source": [
    "### Data from APs comes in the form of Received Signal Strength Indication (RSSI). This is measured in dBm. In our example, we retain the raw data from the receiver, and perform no feature extraction. This is just an assumption however, and the user is free to perform any preprocessing they see fit."
   ]
  },
  {
   "cell_type": "code",
   "execution_count": 11,
   "metadata": {},
   "outputs": [],
   "source": [
    "def preprocess_X_y(ts, X, y):\n",
    "\n",
    "    return X, y"
   ]
  },
  {
   "cell_type": "markdown",
   "metadata": {},
   "source": [
    "### Split occurs in the same way as the above:"
   ]
  },
  {
   "cell_type": "code",
   "execution_count": 12,
   "metadata": {},
   "outputs": [],
   "source": [
    "def split_train_test(X, y):\n",
    "    # Create train and test partitions\n",
    "    skf = StratifiedKFold(n_splits=2, shuffle=False)\n",
    "    y = y.astype(int)\n",
    "    train_index, test_index = skf.split(X, y).__next__()\n",
    "    X_train, X_test = X[train_index], X[test_index]\n",
    "    y_train, y_test = y[train_index], y[test_index]\n",
    "    plot_test_train_splits(y_train, y_test)\n",
    "    return (X_train, y_train), (X_test, y_test)"
   ]
  },
  {
   "cell_type": "markdown",
   "metadata": {},
   "source": [
    "### For the purposes of indoor localisation, we expand the space of parameters and classifiers used in this example. Note, that here we are comparing a variety of different classifiers, each with their own parameter space. They are:\n",
    "\n",
    "- Random Forest (rf)\n",
    "- Logistic Regression (lr)\n",
    "- Support Vector Classifier (svc)\n",
    "- Support Vector Classifier with Radial Basis Function kernel\n",
    "\n",
    "Ultimately, only rf is used to perform classification. This however can be easily changed, and new classifiers added."
   ]
  },
  {
   "cell_type": "code",
   "execution_count": 13,
   "metadata": {},
   "outputs": [],
   "source": [
    "def get_classifier_grid():\n",
    "    # Create cross-validation partitions from training\n",
    "    # This should select the best set of parameters\n",
    "    cv = StratifiedKFold(n_splits=5, shuffle=False)\n",
    "\n",
    "    models = {'rf': {'model': RandomForestClassifier(),\n",
    "                     'parameters': {'n_estimators': [200, 250],\n",
    "                                    'min_samples_leaf': [1, 5, 10]}},\n",
    "              'lr': {'model': LogisticRegression(penalty='l2'),\n",
    "                     'parameters': {'C': [0.01, 0.1, 1, 10, 100]}},\n",
    "              'svc': {'model': SVC(probability=True),\n",
    "                      'parameters': [{'kernel': ['rbf'],\n",
    "                                      'gamma': [1e-3, 1e-4],\n",
    "                                      'C': [1, 10, 100, 1000]},\n",
    "                                     {'kernel': ['linear'],\n",
    "                                      'C': [1, 10, 100, 1000]}]},\n",
    "              'svc-rbf': {'model': SVC(probability=True),\n",
    "                          'parameters': [{'kernel': ['rbf'],\n",
    "                                          'gamma': [1e-3, 1e-4],\n",
    "                                          'C': [1, 10, 100, 1000]}, ]},\n",
    "              }\n",
    "\n",
    "    classifier_name = 'rf'\n",
    "\n",
    "    steps = [('imputer', SimpleImputer(missing_values=np.nan,\n",
    "                                       strategy='mean')),\n",
    "             ('scaler', StandardScaler()),\n",
    "             ('clf', models[classifier_name]['model'])]\n",
    "\n",
    "    pipeline = Pipeline(steps)\n",
    "\n",
    "    pipeline_parameters = {'clf__' + key: value for key, value in\n",
    "                           models[classifier_name]['parameters'].items()}\n",
    "\n",
    "    clf_grid = GridSearchCV(pipeline, param_grid=pipeline_parameters, cv=cv,\n",
    "                            refit=True)\n",
    "    return clf_grid"
   ]
  },
  {
   "cell_type": "markdown",
   "metadata": {},
   "source": [
    "### This function again prints out the summary of the classification, much like in the activity example."
   ]
  },
  {
   "cell_type": "code",
   "execution_count": 14,
   "metadata": {},
   "outputs": [],
   "source": [
    "def print_summary(clf_grid, X_test, y_test):\n",
    "    print('Best parameters are: {}'.format(clf_grid.best_params_))\n",
    "    print(\"CV accuracy \"+str(np.mean(clf_grid.cv_results_['mean_test_score'])))\n",
    "\n",
    "    # The best model was fitted on the full training data, here tested only\n",
    "    tt_score = clf_grid.score(X_test, y_test)\n",
    "    print(\"Train / test split accuracy \"+str(tt_score))"
   ]
  },
  {
   "cell_type": "markdown",
   "metadata": {},
   "source": [
    "### Note, that the metrics for localisation follow much and the same evaluation strategy. This is deliberate, as the objective here is to familiarise the user, and allow them to easily add their own modalities."
   ]
  },
  {
   "cell_type": "code",
   "execution_count": 15,
   "metadata": {},
   "outputs": [],
   "source": [
    "def localisation_metrics(labels, timestamps, span):\n",
    "    \"\"\"Outputs typical activity metrics.\"\"\"\n",
    "\n",
    "    descriptor_map = {\n",
    "        'foyer' : [0],\n",
    "        'bedroom' : [1],\n",
    "        'living_room' : [2],\n",
    "        'bathroom' : [3]\n",
    "    }\n",
    "\n",
    "    adjecency = [[0, 2.5, 3, 3.3],\n",
    "                 [2.5, 0, 6, 1.5],\n",
    "                 [3, 6, 0, 4],\n",
    "                 [3.3, 1.5, 4, 0]]\n",
    "\n",
    "    metrics = Wrapper(labels, timestamps, span, 1, 25, descriptor_map, adjecency=adjecency)\n",
    "\n",
    "    df_time = timestamps.astype('datetime64')\n",
    "    df_time = pd.DataFrame(df_time, columns=['Time'])\n",
    "    df_label = pd.DataFrame(labels, columns=['Label'])\n",
    "\n",
    "    metric_array= [ metrics.walking_speed,\n",
    "                    metrics.room_transfers,\n",
    "                    metrics.number_of_unique_locations]\n",
    "\n",
    "    metric_container, date_container = metrics.run_metric_array(metric_array)\n",
    "\n",
    "    return metric_container, date_container"
   ]
  },
  {
   "cell_type": "markdown",
   "metadata": {},
   "source": [
    "### The following structure differs from the activity recognition 'main' function. This is because, we perform classification and metric extraction from 4 unique houses, which all differ in their localisation environment. In order to run this example 'per house' we iterate each house on its own."
   ]
  },
  {
   "cell_type": "code",
   "execution_count": 16,
   "metadata": {},
   "outputs": [
    {
     "ename": "NameError",
     "evalue": "name 'data_loading_debug' is not defined",
     "output_type": "error",
     "traceback": [
      "\u001b[0;31m---------------------------------------------------------------------------\u001b[0m",
      "\u001b[0;31mNameError\u001b[0m                                 Traceback (most recent call last)",
      "\u001b[0;32m<ipython-input-16-c6f5fc87bc4e>\u001b[0m in \u001b[0;36m<module>\u001b[0;34m\u001b[0m\n\u001b[1;32m      4\u001b[0m     \u001b[0;32mfor\u001b[0m \u001b[0mhouse_\u001b[0m \u001b[0;32min\u001b[0m \u001b[0mhouses\u001b[0m\u001b[0;34m:\u001b[0m\u001b[0;34m\u001b[0m\u001b[0;34m\u001b[0m\u001b[0m\n\u001b[1;32m      5\u001b[0m \u001b[0;34m\u001b[0m\u001b[0m\n\u001b[0;32m----> 6\u001b[0;31m         \u001b[0mts\u001b[0m\u001b[0;34m,\u001b[0m \u001b[0mX\u001b[0m\u001b[0;34m,\u001b[0m \u001b[0my\u001b[0m \u001b[0;34m=\u001b[0m \u001b[0mget_raw_ts_X_y\u001b[0m\u001b[0;34m(\u001b[0m\u001b[0mhouse_\u001b[0m\u001b[0;34m)\u001b[0m\u001b[0;34m\u001b[0m\u001b[0;34m\u001b[0m\u001b[0m\n\u001b[0m\u001b[1;32m      7\u001b[0m         \u001b[0mfeatures_figure\u001b[0m\u001b[0;34m(\u001b[0m\u001b[0mX\u001b[0m\u001b[0;34m,\u001b[0m \u001b[0mfeature_names\u001b[0m\u001b[0;34m=\u001b[0m\u001b[0;34m[\u001b[0m\u001b[0;34m'AP1'\u001b[0m\u001b[0;34m,\u001b[0m \u001b[0;34m'AP2'\u001b[0m\u001b[0;34m,\u001b[0m \u001b[0;34m'AP3'\u001b[0m\u001b[0;34m,\u001b[0m \u001b[0;34m'AP4'\u001b[0m\u001b[0;34m,\u001b[0m \u001b[0;34m'AP5'\u001b[0m\u001b[0;34m,\u001b[0m \u001b[0;34m'AP6'\u001b[0m\u001b[0;34m,\u001b[0m \u001b[0;34m'AP7'\u001b[0m\u001b[0;34m,\u001b[0m \u001b[0;34m'AP8'\u001b[0m\u001b[0;34m]\u001b[0m\u001b[0;34m)\u001b[0m\u001b[0;34m\u001b[0m\u001b[0;34m\u001b[0m\u001b[0m\n\u001b[1;32m      8\u001b[0m \u001b[0;34m\u001b[0m\u001b[0m\n",
      "\u001b[0;32m<ipython-input-10-32fb25b8d03c>\u001b[0m in \u001b[0;36mget_raw_ts_X_y\u001b[0;34m(house_)\u001b[0m\n\u001b[1;32m      1\u001b[0m \u001b[0;32mdef\u001b[0m \u001b[0mget_raw_ts_X_y\u001b[0m\u001b[0;34m(\u001b[0m\u001b[0mhouse_\u001b[0m\u001b[0;34m)\u001b[0m\u001b[0;34m:\u001b[0m\u001b[0;34m\u001b[0m\u001b[0;34m\u001b[0m\u001b[0m\n\u001b[1;32m      2\u001b[0m \u001b[0;34m\u001b[0m\u001b[0m\n\u001b[0;32m----> 3\u001b[0;31m     \u001b[0mts\u001b[0m\u001b[0;34m,\u001b[0m \u001b[0mX\u001b[0m\u001b[0;34m,\u001b[0m \u001b[0my\u001b[0m \u001b[0;34m=\u001b[0m \u001b[0mdata_loading_debug\u001b[0m\u001b[0;34m.\u001b[0m\u001b[0mdata_loader_rssi_debug\u001b[0m\u001b[0;34m(\u001b[0m\u001b[0mhouse_\u001b[0m\u001b[0;34m)\u001b[0m\u001b[0;34m\u001b[0m\u001b[0;34m\u001b[0m\u001b[0m\n\u001b[0m\u001b[1;32m      4\u001b[0m     \u001b[0;32mreturn\u001b[0m \u001b[0mts\u001b[0m\u001b[0;34m,\u001b[0m \u001b[0mX\u001b[0m\u001b[0;34m,\u001b[0m \u001b[0my\u001b[0m\u001b[0;34m\u001b[0m\u001b[0;34m\u001b[0m\u001b[0m\n",
      "\u001b[0;31mNameError\u001b[0m: name 'data_loading_debug' is not defined"
     ]
    }
   ],
   "source": [
    "if __name__ == '__main__':\n",
    "    houses = ['A']\n",
    "\n",
    "    for house_ in houses:\n",
    "\n",
    "        ts, X, y = get_raw_ts_X_y(house_)\n",
    "        features_figure(X, feature_names=['AP1', 'AP2', 'AP3', 'AP4', 'AP5', 'AP6', 'AP7', 'AP8'])\n",
    "\n",
    "        X, y = preprocess_X_y(ts, X, y)\n",
    "        (X_train, y_train), (X_test, y_test) = split_train_test(X, y)\n",
    "        clf_grid = get_classifier_grid()\n",
    "        clf_grid.fit(X_train, y_train)\n",
    "        print_summary(clf_grid, X_test, y_test)\n",
    "\n",
    "        metric_container_daily, date_container_daily = localisation_metrics(y, ts, 'daily')\n",
    "        plot_metrics(metric_container_daily, date_container_daily, labels_ = ['foyer', 'bedroom', 'living_room', 'bathroom'])\n",
    "\n",
    "        plt.show()"
   ]
  },
  {
   "cell_type": "code",
   "execution_count": null,
   "metadata": {},
   "outputs": [],
   "source": []
  }
 ],
 "metadata": {
  "kernelspec": {
   "display_name": "Python 3",
   "language": "python",
   "name": "python3"
  },
  "language_info": {
   "codemirror_mode": {
    "name": "ipython",
    "version": 3
   },
   "file_extension": ".py",
   "mimetype": "text/x-python",
   "name": "python",
   "nbconvert_exporter": "python",
   "pygments_lexer": "ipython3",
   "version": "3.6.8"
  }
 },
 "nbformat": 4,
 "nbformat_minor": 2
}
